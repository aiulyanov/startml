{
 "cells": [
  {
   "cell_type": "code",
   "execution_count": 1,
   "metadata": {},
   "outputs": [
    {
     "name": "stdout",
     "output_type": "stream",
     "text": [
      "Intel MKL WARNING: Support of Intel(R) Streaming SIMD Extensions 4.2 (Intel(R) SSE4.2) enabled only processors has been deprecated. Intel oneAPI Math Kernel Library 2025.0 will require Intel(R) Advanced Vector Extensions (Intel(R) AVX) instructions.\n",
      "Intel MKL WARNING: Support of Intel(R) Streaming SIMD Extensions 4.2 (Intel(R) SSE4.2) enabled only processors has been deprecated. Intel oneAPI Math Kernel Library 2025.0 will require Intel(R) Advanced Vector Extensions (Intel(R) AVX) instructions.\n"
     ]
    }
   ],
   "source": [
    "import pandas as pd"
   ]
  },
  {
   "cell_type": "code",
   "execution_count": 37,
   "metadata": {},
   "outputs": [
    {
     "name": "stderr",
     "output_type": "stream",
     "text": [
      "/var/folders/q9/s1157trs67g1cbpdjzq0g9zh0000gn/T/ipykernel_22125/2974393030.py:6: FutureWarning: The default value of regex will change from True to False in a future version. In addition, single character regular expressions will *not* be treated as literal strings when regex=True.\n",
      "  playstore['price'] = playstore['price'].str.replace('$', '').astype(float)\n"
     ]
    }
   ],
   "source": [
    "playstore = pd.read_csv('./playstore.csv', index_col=0)\n",
    "playstore.columns = [col.lower() for col in playstore.columns]\n",
    "playstore.columns = [col.replace(' ', '_') for col in playstore.columns]\n",
    "playstore = playstore.drop_duplicates(subset='app').reset_index(drop=True)\n",
    "# playstore[(playstore['category'] == 'EDUCATION') & (playstore['reviews'] > 1000)].reset_index(drop=True)\n",
    "playstore['price'] = playstore['price'].str.replace('$', '').astype(float)"
   ]
  },
  {
   "cell_type": "code",
   "execution_count": 38,
   "metadata": {},
   "outputs": [
    {
     "data": {
      "text/plain": [
       "Index(['app', 'category', 'rating', 'reviews', 'size', 'installs', 'type',\n",
       "       'price', 'content_rating', 'genres', 'last_updated', 'current_ver',\n",
       "       'android_ver'],\n",
       "      dtype='object')"
      ]
     },
     "execution_count": 38,
     "metadata": {},
     "output_type": "execute_result"
    }
   ],
   "source": [
    "playstore.columns"
   ]
  },
  {
   "cell_type": "code",
   "execution_count": 47,
   "metadata": {},
   "outputs": [],
   "source": [
    "pt = playstore.pivot_table(index=['category', 'type'], values=['price', 'rating', 'reviews'], aggfunc='mean')\n",
    "pt.columns = ['mean_' + col for col in pt.columns]\n",
    "pt['mean_price'] = pt['mean_price'].round(2)\n",
    "pt['mean_rating'] = pt['mean_rating'].round(1)\n",
    "pt['mean_reviews'] = pt['mean_reviews'].round(2)\n",
    "pt.to_csv('pivot.csv')\n"
   ]
  }
 ],
 "metadata": {
  "kernelspec": {
   "display_name": "startml",
   "language": "python",
   "name": "python3"
  },
  "language_info": {
   "codemirror_mode": {
    "name": "ipython",
    "version": 3
   },
   "file_extension": ".py",
   "mimetype": "text/x-python",
   "name": "python",
   "nbconvert_exporter": "python",
   "pygments_lexer": "ipython3",
   "version": "3.11.4"
  },
  "orig_nbformat": 4
 },
 "nbformat": 4,
 "nbformat_minor": 2
}
