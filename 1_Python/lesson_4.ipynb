{
 "cells": [
  {
   "cell_type": "code",
   "execution_count": 1,
   "id": "e39dccd6",
   "metadata": {},
   "outputs": [
    {
     "name": "stdout",
     "output_type": "stream",
     "text": [
      "Intel MKL WARNING: Support of Intel(R) Streaming SIMD Extensions 4.2 (Intel(R) SSE4.2) enabled only processors has been deprecated. Intel oneAPI Math Kernel Library 2025.0 will require Intel(R) Advanced Vector Extensions (Intel(R) AVX) instructions.\n",
      "Intel MKL WARNING: Support of Intel(R) Streaming SIMD Extensions 4.2 (Intel(R) SSE4.2) enabled only processors has been deprecated. Intel oneAPI Math Kernel Library 2025.0 will require Intel(R) Advanced Vector Extensions (Intel(R) AVX) instructions.\n"
     ]
    }
   ],
   "source": [
    "import pandas as pd\n",
    "import numpy as np"
   ]
  },
  {
   "cell_type": "code",
   "execution_count": 103,
   "id": "2531a663",
   "metadata": {},
   "outputs": [],
   "source": [
    "data = pd.read_csv('./data.csv')"
   ]
  },
  {
   "cell_type": "code",
   "execution_count": 24,
   "id": "87cb1227",
   "metadata": {},
   "outputs": [
    {
     "data": {
      "text/plain": [
       "Index(['id', 'address', 'categories', 'city', 'cuisines', 'dateAdded',\n",
       "       'dateUpdated', 'latitude', 'longitude', 'menus.category',\n",
       "       'menus.currency', 'menus.dateSeen', 'menus.description', 'menus.name',\n",
       "       'name', 'province'],\n",
       "      dtype='object')"
      ]
     },
     "execution_count": 24,
     "metadata": {},
     "output_type": "execute_result"
    }
   ],
   "source": [
    "data.columns"
   ]
  },
  {
   "cell_type": "code",
   "execution_count": 45,
   "id": "cce0fd98",
   "metadata": {},
   "outputs": [
    {
     "data": {
      "text/plain": [
       "['San Diego', 'Los Angeles', 'Chicago', 'San Francisco', 'New York']"
      ]
     },
     "execution_count": 45,
     "metadata": {},
     "output_type": "execute_result"
    }
   ],
   "source": [
    "list(data[['city', 'id']].groupby(['city']).count().sort_values(by='id', ascending=False).reset_index().iloc[:5, 0].values)"
   ]
  },
  {
   "cell_type": "code",
   "execution_count": 55,
   "id": "99421af7",
   "metadata": {},
   "outputs": [],
   "source": [
    "result = (\n",
    "    data[data['name'] == 'Taco Bell'][['city', 'name']]\n",
    "        .groupby('city')\n",
    "        .agg('count')\n",
    "        .sort_values(by='name', ascending=False)\n",
    "        ['name'][0:5]\n",
    ")"
   ]
  },
  {
   "cell_type": "code",
   "execution_count": 59,
   "id": "0717ae0b",
   "metadata": {},
   "outputs": [],
   "source": [
    "data['dateAdded'] = pd.to_datetime(data['dateAdded'])"
   ]
  },
  {
   "cell_type": "code",
   "execution_count": 66,
   "id": "255ee3a4",
   "metadata": {},
   "outputs": [
    {
     "data": {
      "text/plain": [
       "3"
      ]
     },
     "execution_count": 66,
     "metadata": {},
     "output_type": "execute_result"
    }
   ],
   "source": [
    "data.iloc[0]['dateAdded'].month"
   ]
  },
  {
   "cell_type": "code",
   "execution_count": 68,
   "id": "9504f8f5",
   "metadata": {},
   "outputs": [
    {
     "data": {
      "text/plain": [
       "Int64Index([2, 21, 22, 23, 24], dtype='int64')"
      ]
     },
     "execution_count": 68,
     "metadata": {},
     "output_type": "execute_result"
    }
   ],
   "source": [
    "data[data['dateAdded'].dt.month == 10].index[:5]"
   ]
  },
  {
   "cell_type": "code",
   "execution_count": 70,
   "id": "76522418",
   "metadata": {},
   "outputs": [
    {
     "data": {
      "text/html": [
       "<div>\n",
       "<style scoped>\n",
       "    .dataframe tbody tr th:only-of-type {\n",
       "        vertical-align: middle;\n",
       "    }\n",
       "\n",
       "    .dataframe tbody tr th {\n",
       "        vertical-align: top;\n",
       "    }\n",
       "\n",
       "    .dataframe thead th {\n",
       "        text-align: right;\n",
       "    }\n",
       "</style>\n",
       "<table border=\"1\" class=\"dataframe\">\n",
       "  <thead>\n",
       "    <tr style=\"text-align: right;\">\n",
       "      <th></th>\n",
       "      <th>id</th>\n",
       "    </tr>\n",
       "    <tr>\n",
       "      <th>dateAdded</th>\n",
       "      <th></th>\n",
       "    </tr>\n",
       "  </thead>\n",
       "  <tbody>\n",
       "    <tr>\n",
       "      <th>2014-01-02 03:43:21+00:00</th>\n",
       "      <td>2</td>\n",
       "    </tr>\n",
       "    <tr>\n",
       "      <th>2014-01-03 04:58:26+00:00</th>\n",
       "      <td>1</td>\n",
       "    </tr>\n",
       "    <tr>\n",
       "      <th>2014-01-03 05:00:06+00:00</th>\n",
       "      <td>3</td>\n",
       "    </tr>\n",
       "    <tr>\n",
       "      <th>2014-01-06 05:31:13+00:00</th>\n",
       "      <td>1</td>\n",
       "    </tr>\n",
       "    <tr>\n",
       "      <th>2014-01-06 05:39:44+00:00</th>\n",
       "      <td>4</td>\n",
       "    </tr>\n",
       "    <tr>\n",
       "      <th>...</th>\n",
       "      <td>...</td>\n",
       "    </tr>\n",
       "    <tr>\n",
       "      <th>2017-06-29 14:55:38+00:00</th>\n",
       "      <td>1</td>\n",
       "    </tr>\n",
       "    <tr>\n",
       "      <th>2017-06-29 14:55:39+00:00</th>\n",
       "      <td>9</td>\n",
       "    </tr>\n",
       "    <tr>\n",
       "      <th>2017-06-29 14:55:40+00:00</th>\n",
       "      <td>1</td>\n",
       "    </tr>\n",
       "    <tr>\n",
       "      <th>2017-06-29 14:55:41+00:00</th>\n",
       "      <td>2</td>\n",
       "    </tr>\n",
       "    <tr>\n",
       "      <th>2017-06-29 14:55:42+00:00</th>\n",
       "      <td>8</td>\n",
       "    </tr>\n",
       "  </tbody>\n",
       "</table>\n",
       "<p>17965 rows × 1 columns</p>\n",
       "</div>"
      ],
      "text/plain": [
       "                           id\n",
       "dateAdded                    \n",
       "2014-01-02 03:43:21+00:00   2\n",
       "2014-01-03 04:58:26+00:00   1\n",
       "2014-01-03 05:00:06+00:00   3\n",
       "2014-01-06 05:31:13+00:00   1\n",
       "2014-01-06 05:39:44+00:00   4\n",
       "...                        ..\n",
       "2017-06-29 14:55:38+00:00   1\n",
       "2017-06-29 14:55:39+00:00   9\n",
       "2017-06-29 14:55:40+00:00   1\n",
       "2017-06-29 14:55:41+00:00   2\n",
       "2017-06-29 14:55:42+00:00   8\n",
       "\n",
       "[17965 rows x 1 columns]"
      ]
     },
     "execution_count": 70,
     "metadata": {},
     "output_type": "execute_result"
    }
   ],
   "source": [
    "data[['dateAdded', 'id']].groupby('dateAdded').agg('count')"
   ]
  },
  {
   "cell_type": "code",
   "execution_count": 94,
   "id": "80c938c1",
   "metadata": {},
   "outputs": [
    {
     "data": {
      "text/plain": [
       "id                    object\n",
       "address               object\n",
       "categories            object\n",
       "city                  object\n",
       "cuisines              object\n",
       "dateAdded             object\n",
       "dateUpdated           object\n",
       "latitude             float64\n",
       "longitude            float64\n",
       "menus.category        object\n",
       "menus.currency        object\n",
       "menus.dateSeen        object\n",
       "menus.description     object\n",
       "menus.name            object\n",
       "name                  object\n",
       "province              object\n",
       "dtype: object"
      ]
     },
     "execution_count": 94,
     "metadata": {},
     "output_type": "execute_result"
    }
   ],
   "source": [
    "data.dtypes"
   ]
  },
  {
   "cell_type": "code",
   "execution_count": 99,
   "id": "717548ae",
   "metadata": {},
   "outputs": [],
   "source": [
    "data['update_delta'] = (pd.to_datetime(data['dateUpdated']) - pd.to_datetime(data['dateAdded'])).dt.days\n",
    "# result = data.groupby('city').agg({'update_delta': 'mean', 'latitude': 'max'}).reset_index()\n",
    "# zep_mean = result[result['city'] == 'Zephyrhills']['update_delta'].item()\n",
    "# zep_mean"
   ]
  },
  {
   "cell_type": "code",
   "execution_count": 102,
   "id": "6fecc7e7",
   "metadata": {},
   "outputs": [
    {
     "data": {
      "text/plain": [
       "364.0"
      ]
     },
     "execution_count": 102,
     "metadata": {},
     "output_type": "execute_result"
    }
   ],
   "source": [
    "round(data['update_delta'].median(), 2)"
   ]
  },
  {
   "cell_type": "code",
   "execution_count": 133,
   "id": "9c3249da",
   "metadata": {},
   "outputs": [
    {
     "data": {
      "text/html": [
       "<div>\n",
       "<style scoped>\n",
       "    .dataframe tbody tr th:only-of-type {\n",
       "        vertical-align: middle;\n",
       "    }\n",
       "\n",
       "    .dataframe tbody tr th {\n",
       "        vertical-align: top;\n",
       "    }\n",
       "\n",
       "    .dataframe thead th {\n",
       "        text-align: right;\n",
       "    }\n",
       "</style>\n",
       "<table border=\"1\" class=\"dataframe\">\n",
       "  <thead>\n",
       "    <tr style=\"text-align: right;\">\n",
       "      <th></th>\n",
       "      <th>longitude</th>\n",
       "    </tr>\n",
       "    <tr>\n",
       "      <th>province</th>\n",
       "      <th></th>\n",
       "    </tr>\n",
       "  </thead>\n",
       "  <tbody>\n",
       "    <tr>\n",
       "      <th>AZ</th>\n",
       "      <td>-110.136</td>\n",
       "    </tr>\n",
       "    <tr>\n",
       "      <th>CA</th>\n",
       "      <td>-122.417</td>\n",
       "    </tr>\n",
       "    <tr>\n",
       "      <th>DC</th>\n",
       "      <td>-77.075</td>\n",
       "    </tr>\n",
       "    <tr>\n",
       "      <th>G P O</th>\n",
       "      <td>-73.990</td>\n",
       "    </tr>\n",
       "    <tr>\n",
       "      <th>KY</th>\n",
       "      <td>-87.455</td>\n",
       "    </tr>\n",
       "    <tr>\n",
       "      <th>MA</th>\n",
       "      <td>-71.055</td>\n",
       "    </tr>\n",
       "    <tr>\n",
       "      <th>MD</th>\n",
       "      <td>-77.453</td>\n",
       "    </tr>\n",
       "    <tr>\n",
       "      <th>NY</th>\n",
       "      <td>-76.794</td>\n",
       "    </tr>\n",
       "    <tr>\n",
       "      <th>St Simons Is</th>\n",
       "      <td>-81.394</td>\n",
       "    </tr>\n",
       "    <tr>\n",
       "      <th>TX</th>\n",
       "      <td>-94.939</td>\n",
       "    </tr>\n",
       "    <tr>\n",
       "      <th>VA</th>\n",
       "      <td>-77.093</td>\n",
       "    </tr>\n",
       "    <tr>\n",
       "      <th>WA</th>\n",
       "      <td>-122.383</td>\n",
       "    </tr>\n",
       "    <tr>\n",
       "      <th>WI</th>\n",
       "      <td>-89.377</td>\n",
       "    </tr>\n",
       "  </tbody>\n",
       "</table>\n",
       "</div>"
      ],
      "text/plain": [
       "              longitude\n",
       "province               \n",
       "AZ             -110.136\n",
       "CA             -122.417\n",
       "DC              -77.075\n",
       "G P O           -73.990\n",
       "KY              -87.455\n",
       "MA              -71.055\n",
       "MD              -77.453\n",
       "NY              -76.794\n",
       "St Simons Is    -81.394\n",
       "TX              -94.939\n",
       "VA              -77.093\n",
       "WA             -122.383\n",
       "WI              -89.377"
      ]
     },
     "execution_count": 133,
     "metadata": {},
     "output_type": "execute_result"
    }
   ],
   "source": [
    "data = pd.read_csv('./data.csv')\n",
    "df = data[data['categories'].str.split(',').apply(len) > 20]\n",
    "result = df.groupby('province')[['longitude']].min()\n",
    "result['longitude'] = (result['longitude']).apply(lambda x: round(x, 3))\n",
    "result.to_csv('lesson4_1.csv', sep=';')\n",
    "result"
   ]
  },
  {
   "cell_type": "code",
   "execution_count": 120,
   "id": "b2be7e5b",
   "metadata": {},
   "outputs": [
    {
     "data": {
      "text/html": [
       "<div>\n",
       "<style scoped>\n",
       "    .dataframe tbody tr th:only-of-type {\n",
       "        vertical-align: middle;\n",
       "    }\n",
       "\n",
       "    .dataframe tbody tr th {\n",
       "        vertical-align: top;\n",
       "    }\n",
       "\n",
       "    .dataframe thead th {\n",
       "        text-align: right;\n",
       "    }\n",
       "</style>\n",
       "<table border=\"1\" class=\"dataframe\">\n",
       "  <thead>\n",
       "    <tr style=\"text-align: right;\">\n",
       "      <th></th>\n",
       "      <th>province</th>\n",
       "      <th>longitude</th>\n",
       "    </tr>\n",
       "  </thead>\n",
       "  <tbody>\n",
       "    <tr>\n",
       "      <th>0</th>\n",
       "      <td>AZ</td>\n",
       "      <td>-110.136</td>\n",
       "    </tr>\n",
       "    <tr>\n",
       "      <th>1</th>\n",
       "      <td>CA</td>\n",
       "      <td>-122.417</td>\n",
       "    </tr>\n",
       "    <tr>\n",
       "      <th>2</th>\n",
       "      <td>DC</td>\n",
       "      <td>-77.075</td>\n",
       "    </tr>\n",
       "    <tr>\n",
       "      <th>3</th>\n",
       "      <td>G P O</td>\n",
       "      <td>-73.990</td>\n",
       "    </tr>\n",
       "    <tr>\n",
       "      <th>4</th>\n",
       "      <td>KY</td>\n",
       "      <td>-87.455</td>\n",
       "    </tr>\n",
       "    <tr>\n",
       "      <th>5</th>\n",
       "      <td>MA</td>\n",
       "      <td>-71.055</td>\n",
       "    </tr>\n",
       "    <tr>\n",
       "      <th>6</th>\n",
       "      <td>MD</td>\n",
       "      <td>-77.453</td>\n",
       "    </tr>\n",
       "    <tr>\n",
       "      <th>7</th>\n",
       "      <td>NY</td>\n",
       "      <td>-76.794</td>\n",
       "    </tr>\n",
       "    <tr>\n",
       "      <th>8</th>\n",
       "      <td>St Simons Is</td>\n",
       "      <td>-81.394</td>\n",
       "    </tr>\n",
       "    <tr>\n",
       "      <th>9</th>\n",
       "      <td>TX</td>\n",
       "      <td>-94.939</td>\n",
       "    </tr>\n",
       "    <tr>\n",
       "      <th>10</th>\n",
       "      <td>VA</td>\n",
       "      <td>-77.093</td>\n",
       "    </tr>\n",
       "    <tr>\n",
       "      <th>11</th>\n",
       "      <td>WA</td>\n",
       "      <td>-122.383</td>\n",
       "    </tr>\n",
       "    <tr>\n",
       "      <th>12</th>\n",
       "      <td>WI</td>\n",
       "      <td>-89.377</td>\n",
       "    </tr>\n",
       "  </tbody>\n",
       "</table>\n",
       "</div>"
      ],
      "text/plain": [
       "        province  longitude\n",
       "0             AZ   -110.136\n",
       "1             CA   -122.417\n",
       "2             DC    -77.075\n",
       "3          G P O    -73.990\n",
       "4             KY    -87.455\n",
       "5             MA    -71.055\n",
       "6             MD    -77.453\n",
       "7             NY    -76.794\n",
       "8   St Simons Is    -81.394\n",
       "9             TX    -94.939\n",
       "10            VA    -77.093\n",
       "11            WA   -122.383\n",
       "12            WI    -89.377"
      ]
     },
     "execution_count": 120,
     "metadata": {},
     "output_type": "execute_result"
    }
   ],
   "source": [
    "result"
   ]
  },
  {
   "cell_type": "code",
   "execution_count": 127,
   "id": "88d3abc8",
   "metadata": {},
   "outputs": [
    {
     "data": {
      "text/plain": [
       "22"
      ]
     },
     "execution_count": 127,
     "metadata": {},
     "output_type": "execute_result"
    }
   ],
   "source": [
    "len(df.categories[1750].split(','))"
   ]
  }
 ],
 "metadata": {
  "kernelspec": {
   "display_name": "Python 3 (ipykernel)",
   "language": "python",
   "name": "python3"
  },
  "language_info": {
   "codemirror_mode": {
    "name": "ipython",
    "version": 3
   },
   "file_extension": ".py",
   "mimetype": "text/x-python",
   "name": "python",
   "nbconvert_exporter": "python",
   "pygments_lexer": "ipython3",
   "version": "3.11.4"
  }
 },
 "nbformat": 4,
 "nbformat_minor": 5
}
