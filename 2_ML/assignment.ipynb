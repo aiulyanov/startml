{
 "cells": [
  {
   "cell_type": "code",
   "execution_count": 24,
   "metadata": {},
   "outputs": [],
   "source": [
    "import pandas as pd\n",
    "import numpy as np\n",
    "import matplotlib.pyplot as plt\n",
    "import seaborn as sns"
   ]
  },
  {
   "cell_type": "code",
   "execution_count": 2,
   "metadata": {},
   "outputs": [
    {
     "data": {
      "text/html": [
       "<div>\n",
       "<style scoped>\n",
       "    .dataframe tbody tr th:only-of-type {\n",
       "        vertical-align: middle;\n",
       "    }\n",
       "\n",
       "    .dataframe tbody tr th {\n",
       "        vertical-align: top;\n",
       "    }\n",
       "\n",
       "    .dataframe thead th {\n",
       "        text-align: right;\n",
       "    }\n",
       "</style>\n",
       "<table border=\"1\" class=\"dataframe\">\n",
       "  <thead>\n",
       "    <tr style=\"text-align: right;\">\n",
       "      <th></th>\n",
       "      <th>col_0</th>\n",
       "      <th>col_1</th>\n",
       "      <th>col_2</th>\n",
       "      <th>col_3</th>\n",
       "      <th>col_4</th>\n",
       "      <th>col_5</th>\n",
       "      <th>col_6</th>\n",
       "      <th>col_7</th>\n",
       "      <th>col_8</th>\n",
       "      <th>col_9</th>\n",
       "      <th>col_10</th>\n",
       "      <th>col_11</th>\n",
       "      <th>col_12</th>\n",
       "      <th>col_13</th>\n",
       "      <th>label</th>\n",
       "    </tr>\n",
       "  </thead>\n",
       "  <tbody>\n",
       "    <tr>\n",
       "      <th>0</th>\n",
       "      <td>0.860224</td>\n",
       "      <td>1</td>\n",
       "      <td>0.905699</td>\n",
       "      <td>0.0</td>\n",
       "      <td>0.000000</td>\n",
       "      <td>0.897801</td>\n",
       "      <td>0.416134</td>\n",
       "      <td>0.936249</td>\n",
       "      <td>0.954516</td>\n",
       "      <td>0.655994</td>\n",
       "      <td>70.0</td>\n",
       "      <td>0.904535</td>\n",
       "      <td>0.477965</td>\n",
       "      <td>1.000000</td>\n",
       "      <td>1</td>\n",
       "    </tr>\n",
       "    <tr>\n",
       "      <th>1</th>\n",
       "      <td>0.899660</td>\n",
       "      <td>0</td>\n",
       "      <td>0.950384</td>\n",
       "      <td>0.0</td>\n",
       "      <td>0.000000</td>\n",
       "      <td>0.899660</td>\n",
       "      <td>0.814271</td>\n",
       "      <td>0.965632</td>\n",
       "      <td>0.895718</td>\n",
       "      <td>0.866131</td>\n",
       "      <td>36.0</td>\n",
       "      <td>0.726427</td>\n",
       "      <td>0.770299</td>\n",
       "      <td>1.000000</td>\n",
       "      <td>1</td>\n",
       "    </tr>\n",
       "    <tr>\n",
       "      <th>2</th>\n",
       "      <td>0.604478</td>\n",
       "      <td>0</td>\n",
       "      <td>0.901425</td>\n",
       "      <td>0.0</td>\n",
       "      <td>0.544263</td>\n",
       "      <td>0.816494</td>\n",
       "      <td>0.542276</td>\n",
       "      <td>0.929602</td>\n",
       "      <td>0.982845</td>\n",
       "      <td>0.943498</td>\n",
       "      <td>106.0</td>\n",
       "      <td>0.855471</td>\n",
       "      <td>0.602923</td>\n",
       "      <td>0.670886</td>\n",
       "      <td>1</td>\n",
       "    </tr>\n",
       "    <tr>\n",
       "      <th>3</th>\n",
       "      <td>0.786914</td>\n",
       "      <td>0</td>\n",
       "      <td>0.874471</td>\n",
       "      <td>0.0</td>\n",
       "      <td>0.000000</td>\n",
       "      <td>0.767869</td>\n",
       "      <td>0.792423</td>\n",
       "      <td>0.901341</td>\n",
       "      <td>0.815631</td>\n",
       "      <td>0.793568</td>\n",
       "      <td>135.0</td>\n",
       "      <td>0.843382</td>\n",
       "      <td>1.000000</td>\n",
       "      <td>1.000000</td>\n",
       "      <td>1</td>\n",
       "    </tr>\n",
       "    <tr>\n",
       "      <th>4</th>\n",
       "      <td>0.485634</td>\n",
       "      <td>1</td>\n",
       "      <td>0.909619</td>\n",
       "      <td>0.5</td>\n",
       "      <td>0.000000</td>\n",
       "      <td>0.499489</td>\n",
       "      <td>1.000000</td>\n",
       "      <td>0.644051</td>\n",
       "      <td>0.890473</td>\n",
       "      <td>0.998848</td>\n",
       "      <td>0.0</td>\n",
       "      <td>0.825947</td>\n",
       "      <td>1.000000</td>\n",
       "      <td>0.000000</td>\n",
       "      <td>1</td>\n",
       "    </tr>\n",
       "  </tbody>\n",
       "</table>\n",
       "</div>"
      ],
      "text/plain": [
       "      col_0  col_1     col_2  col_3     col_4     col_5     col_6     col_7  \\\n",
       "0  0.860224      1  0.905699    0.0  0.000000  0.897801  0.416134  0.936249   \n",
       "1  0.899660      0  0.950384    0.0  0.000000  0.899660  0.814271  0.965632   \n",
       "2  0.604478      0  0.901425    0.0  0.544263  0.816494  0.542276  0.929602   \n",
       "3  0.786914      0  0.874471    0.0  0.000000  0.767869  0.792423  0.901341   \n",
       "4  0.485634      1  0.909619    0.5  0.000000  0.499489  1.000000  0.644051   \n",
       "\n",
       "      col_8     col_9  col_10    col_11    col_12    col_13  label  \n",
       "0  0.954516  0.655994    70.0  0.904535  0.477965  1.000000      1  \n",
       "1  0.895718  0.866131    36.0  0.726427  0.770299  1.000000      1  \n",
       "2  0.982845  0.943498   106.0  0.855471  0.602923  0.670886      1  \n",
       "3  0.815631  0.793568   135.0  0.843382  1.000000  1.000000      1  \n",
       "4  0.890473  0.998848     0.0  0.825947  1.000000  0.000000      1  "
      ]
     },
     "execution_count": 2,
     "metadata": {},
     "output_type": "execute_result"
    }
   ],
   "source": [
    "df = pd.read_csv('data_challenge.csv')\n",
    "df.head()"
   ]
  },
  {
   "cell_type": "code",
   "execution_count": 4,
   "metadata": {},
   "outputs": [
    {
     "data": {
      "text/plain": [
       "col_0     float64\n",
       "col_1       int64\n",
       "col_2     float64\n",
       "col_3     float64\n",
       "col_4     float64\n",
       "col_5     float64\n",
       "col_6     float64\n",
       "col_7     float64\n",
       "col_8     float64\n",
       "col_9     float64\n",
       "col_10    float64\n",
       "col_11    float64\n",
       "col_12    float64\n",
       "col_13    float64\n",
       "label       int64\n",
       "dtype: object"
      ]
     },
     "execution_count": 4,
     "metadata": {},
     "output_type": "execute_result"
    }
   ],
   "source": [
    "df.dtypes"
   ]
  },
  {
   "cell_type": "code",
   "execution_count": 19,
   "metadata": {},
   "outputs": [
    {
     "data": {
      "text/plain": [
       "Index(['col_0', 'col_2', 'col_4', 'col_5', 'col_6', 'col_7', 'col_8', 'col_9',\n",
       "       'col_10', 'col_11', 'col_12', 'col_13'],\n",
       "      dtype='object')"
      ]
     },
     "execution_count": 19,
     "metadata": {},
     "output_type": "execute_result"
    }
   ],
   "source": [
    "df.columns[df.nunique() > 3]"
   ]
  },
  {
   "cell_type": "code",
   "execution_count": 18,
   "metadata": {},
   "outputs": [
    {
     "data": {
      "text/plain": [
       "Index(['col_0', 'col_1', 'col_2', 'col_3', 'col_4', 'col_5', 'col_6', 'col_7',\n",
       "       'col_8', 'col_9', 'col_10', 'col_11', 'col_12', 'col_13', 'label'],\n",
       "      dtype='object')"
      ]
     },
     "execution_count": 18,
     "metadata": {},
     "output_type": "execute_result"
    }
   ],
   "source": [
    "(df.nunique() > 3)"
   ]
  },
  {
   "cell_type": "code",
   "execution_count": 8,
   "metadata": {},
   "outputs": [
    {
     "data": {
      "text/plain": [
       "col_0     0\n",
       "col_1     0\n",
       "col_2     0\n",
       "col_3     0\n",
       "col_4     0\n",
       "col_5     0\n",
       "col_6     0\n",
       "col_7     0\n",
       "col_8     0\n",
       "col_9     0\n",
       "col_10    0\n",
       "col_11    0\n",
       "col_12    0\n",
       "col_13    0\n",
       "label     0\n",
       "dtype: int64"
      ]
     },
     "execution_count": 8,
     "metadata": {},
     "output_type": "execute_result"
    }
   ],
   "source": [
    "df.isna().sum()"
   ]
  },
  {
   "cell_type": "code",
   "execution_count": 22,
   "metadata": {},
   "outputs": [],
   "source": [
    "num_cols = df.columns[df.nunique() > 3]\n",
    "cat_cols = [col for col in df.columns if col not in num_cols]"
   ]
  },
  {
   "cell_type": "code",
   "execution_count": 21,
   "metadata": {},
   "outputs": [
    {
     "data": {
      "image/png": "[encoded data removed]",
      "text/plain": [
       "<Figure size 1296x864 with 12 Axes>"
      ]
     },
     "metadata": {
      "needs_background": "light"
     },
     "output_type": "display_data"
    }
   ],
   "source": [
    "df[df.columns[df.nunique() > 3]].hist(figsize=(18, 12), bins=100);"
   ]
  },
  {
   "cell_type": "code",
   "execution_count": null,
   "metadata": {},
   "outputs": [],
   "source": []
  }
 ],
 "metadata": {
  "kernelspec": {
   "display_name": "startml",
   "language": "python",
   "name": "python3"
  },
  "language_info": {
   "codemirror_mode": {
    "name": "ipython",
    "version": 3
   },
   "file_extension": ".py",
   "mimetype": "text/x-python",
   "name": "python",
   "nbconvert_exporter": "python",
   "pygments_lexer": "ipython3",
   "version": "3.11.4"
  }
 },
 "nbformat": 4,
 "nbformat_minor": 2
}
