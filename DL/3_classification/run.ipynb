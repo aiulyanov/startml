{
 "cells": [
  {
   "cell_type": "code",
   "execution_count": null,
   "metadata": {},
   "outputs": [],
   "source": [
    "%load_ext autoreload\n",
    "%autoreload 2\n",
    "\n",
    "%cd /home/arthur/code/startml/DL/3_cnn/"
   ]
  },
  {
   "cell_type": "code",
   "execution_count": 3,
   "metadata": {},
   "outputs": [],
   "source": [
    "import os\n",
    "import numpy as np\n",
    "import matplotlib.pyplot as plt\n",
    "\n",
    "import torch\n",
    "import torch.nn as nn\n",
    "import torch.optim as optim\n",
    "from torchvision import datasets, transforms\n",
    "\n",
    "import data\n",
    "import train\n",
    "import model\n"
   ]
  },
  {
   "cell_type": "code",
   "execution_count": 4,
   "metadata": {},
   "outputs": [
    {
     "name": "stdout",
     "output_type": "stream",
     "text": [
      "[INFO] [train] Epoch 1 / 20\n",
      "[INFO] [train] Learning rate: 0.0004\n"
     ]
    },
    {
     "name": "stderr",
     "output_type": "stream",
     "text": [
      "Training: 100%|██████████| 782/782 [00:34<00:00, 22.56it/s, loss=1.49]"
     ]
    },
    {
     "name": "stdout",
     "output_type": "stream",
     "text": [
      "[INFO] [train] Train accuracy: 45.44% \n",
      "\n"
     ]
    },
    {
     "name": "stderr",
     "output_type": "stream",
     "text": [
      "\n",
      "Validation: 100%|██████████| 157/157 [00:02<00:00, 62.92it/s, loss=1.12]"
     ]
    },
    {
     "name": "stdout",
     "output_type": "stream",
     "text": [
      "[INFO] [train] Validation accuracy: 59.54% \n",
      "\n",
      "[INFO] [train] Epoch 2 / 20\n",
      "[INFO] [train] Learning rate: 0.00132\n"
     ]
    },
    {
     "name": "stderr",
     "output_type": "stream",
     "text": [
      "\n",
      "Training: 100%|██████████| 782/782 [00:34<00:00, 22.74it/s, loss=1.28]"
     ]
    },
    {
     "name": "stdout",
     "output_type": "stream",
     "text": [
      "[INFO] [train] Train accuracy: 53.98% \n",
      "\n"
     ]
    },
    {
     "name": "stderr",
     "output_type": "stream",
     "text": [
      "\n",
      "Validation: 100%|██████████| 157/157 [00:02<00:00, 62.77it/s, loss=1.08]"
     ]
    },
    {
     "name": "stdout",
     "output_type": "stream",
     "text": [
      "[INFO] [train] Validation accuracy: 62.60% \n",
      "\n"
     ]
    },
    {
     "name": "stderr",
     "output_type": "stream",
     "text": [
      "\n"
     ]
    },
    {
     "name": "stdout",
     "output_type": "stream",
     "text": [
      "[INFO] [train] Epoch 3 / 20\n",
      "[INFO] [train] Learning rate: 0.00372\n"
     ]
    },
    {
     "name": "stderr",
     "output_type": "stream",
     "text": [
      "Training: 100%|██████████| 782/782 [00:34<00:00, 22.55it/s, loss=1.17]"
     ]
    },
    {
     "name": "stdout",
     "output_type": "stream",
     "text": [
      "[INFO] [train] Train accuracy: 58.41% \n",
      "\n"
     ]
    },
    {
     "name": "stderr",
     "output_type": "stream",
     "text": [
      "\n",
      "Validation: 100%|██████████| 157/157 [00:02<00:00, 62.12it/s, loss=0.996]"
     ]
    },
    {
     "name": "stdout",
     "output_type": "stream",
     "text": [
      "[INFO] [train] Validation accuracy: 63.79% \n",
      "\n"
     ]
    },
    {
     "name": "stderr",
     "output_type": "stream",
     "text": [
      "\n"
     ]
    },
    {
     "name": "stdout",
     "output_type": "stream",
     "text": [
      "[INFO] [train] Epoch 4 / 20\n",
      "[INFO] [train] Learning rate: 0.00668\n"
     ]
    },
    {
     "name": "stderr",
     "output_type": "stream",
     "text": [
      "Training: 100%|██████████| 782/782 [00:34<00:00, 22.55it/s, loss=1.02]"
     ]
    },
    {
     "name": "stdout",
     "output_type": "stream",
     "text": [
      "[INFO] [train] Train accuracy: 64.22% \n",
      "\n"
     ]
    },
    {
     "name": "stderr",
     "output_type": "stream",
     "text": [
      "\n",
      "Validation: 100%|██████████| 157/157 [00:02<00:00, 62.30it/s, loss=0.825]"
     ]
    },
    {
     "name": "stdout",
     "output_type": "stream",
     "text": [
      "[INFO] [train] Validation accuracy: 71.51% \n",
      "\n"
     ]
    },
    {
     "name": "stderr",
     "output_type": "stream",
     "text": [
      "\n"
     ]
    },
    {
     "name": "stdout",
     "output_type": "stream",
     "text": [
      "[INFO] [train] Epoch 5 / 20\n",
      "[INFO] [train] Learning rate: 0.00908\n"
     ]
    },
    {
     "name": "stderr",
     "output_type": "stream",
     "text": [
      "Training: 100%|██████████| 782/782 [00:34<00:00, 22.54it/s, loss=0.924]"
     ]
    },
    {
     "name": "stdout",
     "output_type": "stream",
     "text": [
      "[INFO] [train] Train accuracy: 67.67% \n",
      "\n"
     ]
    },
    {
     "name": "stderr",
     "output_type": "stream",
     "text": [
      "\n",
      "Validation: 100%|██████████| 157/157 [00:02<00:00, 62.39it/s, loss=0.761]"
     ]
    },
    {
     "name": "stdout",
     "output_type": "stream",
     "text": [
      "[INFO] [train] Validation accuracy: 74.39% \n",
      "\n"
     ]
    },
    {
     "name": "stderr",
     "output_type": "stream",
     "text": [
      "\n"
     ]
    },
    {
     "name": "stdout",
     "output_type": "stream",
     "text": [
      "[INFO] [train] Epoch 6 / 20\n",
      "[INFO] [train] Learning rate: 0.01\n"
     ]
    },
    {
     "name": "stderr",
     "output_type": "stream",
     "text": [
      "Training: 100%|██████████| 782/782 [00:34<00:00, 22.67it/s, loss=0.831]"
     ]
    },
    {
     "name": "stdout",
     "output_type": "stream",
     "text": [
      "[INFO] [train] Train accuracy: 71.00% \n",
      "\n"
     ]
    },
    {
     "name": "stderr",
     "output_type": "stream",
     "text": [
      "\n",
      "Validation: 100%|██████████| 157/157 [00:02<00:00, 62.87it/s, loss=0.69] "
     ]
    },
    {
     "name": "stdout",
     "output_type": "stream",
     "text": [
      "[INFO] [train] Validation accuracy: 77.00% \n",
      "\n"
     ]
    },
    {
     "name": "stderr",
     "output_type": "stream",
     "text": [
      "\n"
     ]
    },
    {
     "name": "stdout",
     "output_type": "stream",
     "text": [
      "[INFO] [train] Epoch 7 / 20\n",
      "[INFO] [train] Learning rate: 0.00987\n"
     ]
    },
    {
     "name": "stderr",
     "output_type": "stream",
     "text": [
      "Training: 100%|██████████| 782/782 [00:34<00:00, 22.55it/s, loss=0.761]"
     ]
    },
    {
     "name": "stdout",
     "output_type": "stream",
     "text": [
      "[INFO] [train] Train accuracy: 73.57% \n",
      "\n"
     ]
    },
    {
     "name": "stderr",
     "output_type": "stream",
     "text": [
      "\n",
      "Validation: 100%|██████████| 157/157 [00:02<00:00, 62.06it/s, loss=0.569]"
     ]
    },
    {
     "name": "stdout",
     "output_type": "stream",
     "text": [
      "[INFO] [train] Validation accuracy: 80.66% \n",
      "\n"
     ]
    },
    {
     "name": "stderr",
     "output_type": "stream",
     "text": [
      "\n"
     ]
    },
    {
     "name": "stdout",
     "output_type": "stream",
     "text": [
      "[INFO] [train] Epoch 8 / 20\n",
      "[INFO] [train] Learning rate: 0.0095\n"
     ]
    },
    {
     "name": "stderr",
     "output_type": "stream",
     "text": [
      "Training: 100%|██████████| 782/782 [00:34<00:00, 22.58it/s, loss=0.7]  "
     ]
    },
    {
     "name": "stdout",
     "output_type": "stream",
     "text": [
      "[INFO] [train] Train accuracy: 75.67% \n",
      "\n"
     ]
    },
    {
     "name": "stderr",
     "output_type": "stream",
     "text": [
      "\n",
      "Validation: 100%|██████████| 157/157 [00:02<00:00, 62.31it/s, loss=0.608]"
     ]
    },
    {
     "name": "stdout",
     "output_type": "stream",
     "text": [
      "[INFO] [train] Validation accuracy: 79.37% \n",
      "\n",
      "[INFO] [train] Epoch 9 / 20\n",
      "[INFO] [train] Learning rate: 0.00891\n"
     ]
    },
    {
     "name": "stderr",
     "output_type": "stream",
     "text": [
      "\n",
      "Training: 100%|██████████| 782/782 [00:34<00:00, 22.57it/s, loss=0.646]"
     ]
    },
    {
     "name": "stdout",
     "output_type": "stream",
     "text": [
      "[INFO] [train] Train accuracy: 77.74% \n",
      "\n"
     ]
    },
    {
     "name": "stderr",
     "output_type": "stream",
     "text": [
      "\n",
      "Validation: 100%|██████████| 157/157 [00:02<00:00, 62.31it/s, loss=0.537]"
     ]
    },
    {
     "name": "stdout",
     "output_type": "stream",
     "text": [
      "[INFO] [train] Validation accuracy: 81.92% \n",
      "\n"
     ]
    },
    {
     "name": "stderr",
     "output_type": "stream",
     "text": [
      "\n"
     ]
    },
    {
     "name": "stdout",
     "output_type": "stream",
     "text": [
      "[INFO] [train] Epoch 10 / 20\n",
      "[INFO] [train] Learning rate: 0.00812\n"
     ]
    },
    {
     "name": "stderr",
     "output_type": "stream",
     "text": [
      "Training: 100%|██████████| 782/782 [00:34<00:00, 22.57it/s, loss=0.598]"
     ]
    },
    {
     "name": "stdout",
     "output_type": "stream",
     "text": [
      "[INFO] [train] Train accuracy: 79.35% \n",
      "\n"
     ]
    },
    {
     "name": "stderr",
     "output_type": "stream",
     "text": [
      "\n",
      "Validation: 100%|██████████| 157/157 [00:02<00:00, 62.29it/s, loss=0.492]"
     ]
    },
    {
     "name": "stdout",
     "output_type": "stream",
     "text": [
      "[INFO] [train] Validation accuracy: 83.64% \n",
      "\n"
     ]
    },
    {
     "name": "stderr",
     "output_type": "stream",
     "text": [
      "\n"
     ]
    },
    {
     "name": "stdout",
     "output_type": "stream",
     "text": [
      "[INFO] [train] Epoch 11 / 20\n",
      "[INFO] [train] Learning rate: 0.00717\n"
     ]
    },
    {
     "name": "stderr",
     "output_type": "stream",
     "text": [
      "Training: 100%|██████████| 782/782 [00:34<00:00, 22.58it/s, loss=0.554]"
     ]
    },
    {
     "name": "stdout",
     "output_type": "stream",
     "text": [
      "[INFO] [train] Train accuracy: 80.59% \n",
      "\n"
     ]
    },
    {
     "name": "stderr",
     "output_type": "stream",
     "text": [
      "\n",
      "Validation: 100%|██████████| 157/157 [00:02<00:00, 62.32it/s, loss=0.446]"
     ]
    },
    {
     "name": "stdout",
     "output_type": "stream",
     "text": [
      "[INFO] [train] Validation accuracy: 84.36% \n",
      "\n"
     ]
    },
    {
     "name": "stderr",
     "output_type": "stream",
     "text": [
      "\n"
     ]
    },
    {
     "name": "stdout",
     "output_type": "stream",
     "text": [
      "[INFO] [train] Epoch 12 / 20\n",
      "[INFO] [train] Learning rate: 0.00611\n"
     ]
    },
    {
     "name": "stderr",
     "output_type": "stream",
     "text": [
      "Training: 100%|██████████| 782/782 [00:34<00:00, 22.57it/s, loss=0.501]"
     ]
    },
    {
     "name": "stdout",
     "output_type": "stream",
     "text": [
      "[INFO] [train] Train accuracy: 82.64% \n",
      "\n"
     ]
    },
    {
     "name": "stderr",
     "output_type": "stream",
     "text": [
      "\n",
      "Validation: 100%|██████████| 157/157 [00:02<00:00, 62.39it/s, loss=0.411]"
     ]
    },
    {
     "name": "stdout",
     "output_type": "stream",
     "text": [
      "[INFO] [train] Validation accuracy: 86.00% \n",
      "\n"
     ]
    },
    {
     "name": "stderr",
     "output_type": "stream",
     "text": [
      "\n"
     ]
    },
    {
     "name": "stdout",
     "output_type": "stream",
     "text": [
      "[INFO] [train] Epoch 13 / 20\n",
      "[INFO] [train] Learning rate: 0.005\n"
     ]
    },
    {
     "name": "stderr",
     "output_type": "stream",
     "text": [
      "Training: 100%|██████████| 782/782 [00:34<00:00, 22.56it/s, loss=0.454]"
     ]
    },
    {
     "name": "stdout",
     "output_type": "stream",
     "text": [
      "[INFO] [train] Train accuracy: 83.94% \n",
      "\n"
     ]
    },
    {
     "name": "stderr",
     "output_type": "stream",
     "text": [
      "\n",
      "Validation: 100%|██████████| 157/157 [00:02<00:00, 62.31it/s, loss=0.363]"
     ]
    },
    {
     "name": "stdout",
     "output_type": "stream",
     "text": [
      "[INFO] [train] Validation accuracy: 87.62% \n",
      "\n"
     ]
    },
    {
     "name": "stderr",
     "output_type": "stream",
     "text": [
      "\n"
     ]
    },
    {
     "name": "stdout",
     "output_type": "stream",
     "text": [
      "[INFO] [train] Epoch 14 / 20\n",
      "[INFO] [train] Learning rate: 0.00389\n"
     ]
    },
    {
     "name": "stderr",
     "output_type": "stream",
     "text": [
      "Training: 100%|██████████| 782/782 [00:34<00:00, 22.56it/s, loss=0.41] "
     ]
    },
    {
     "name": "stdout",
     "output_type": "stream",
     "text": [
      "[INFO] [train] Train accuracy: 85.78% \n",
      "\n"
     ]
    },
    {
     "name": "stderr",
     "output_type": "stream",
     "text": [
      "\n",
      "Validation: 100%|██████████| 157/157 [00:02<00:00, 62.39it/s, loss=0.365]"
     ]
    },
    {
     "name": "stdout",
     "output_type": "stream",
     "text": [
      "[INFO] [train] Validation accuracy: 87.81% \n",
      "\n"
     ]
    },
    {
     "name": "stderr",
     "output_type": "stream",
     "text": [
      "\n"
     ]
    },
    {
     "name": "stdout",
     "output_type": "stream",
     "text": [
      "[INFO] [train] Epoch 15 / 20\n",
      "[INFO] [train] Learning rate: 0.00283\n"
     ]
    },
    {
     "name": "stderr",
     "output_type": "stream",
     "text": [
      "Training: 100%|██████████| 782/782 [00:34<00:00, 22.55it/s, loss=0.363]"
     ]
    },
    {
     "name": "stdout",
     "output_type": "stream",
     "text": [
      "[INFO] [train] Train accuracy: 87.23% \n",
      "\n"
     ]
    },
    {
     "name": "stderr",
     "output_type": "stream",
     "text": [
      "\n",
      "Validation: 100%|██████████| 157/157 [00:02<00:00, 62.38it/s, loss=0.323]"
     ]
    },
    {
     "name": "stdout",
     "output_type": "stream",
     "text": [
      "[INFO] [train] Validation accuracy: 88.88% \n",
      "\n"
     ]
    },
    {
     "name": "stderr",
     "output_type": "stream",
     "text": [
      "\n"
     ]
    },
    {
     "name": "stdout",
     "output_type": "stream",
     "text": [
      "[INFO] [train] Epoch 16 / 20\n",
      "[INFO] [train] Learning rate: 0.00188\n"
     ]
    },
    {
     "name": "stderr",
     "output_type": "stream",
     "text": [
      "Training: 100%|██████████| 782/782 [00:34<00:00, 22.64it/s, loss=0.322]"
     ]
    },
    {
     "name": "stdout",
     "output_type": "stream",
     "text": [
      "[INFO] [train] Train accuracy: 88.78% \n",
      "\n"
     ]
    },
    {
     "name": "stderr",
     "output_type": "stream",
     "text": [
      "\n",
      "Validation: 100%|██████████| 157/157 [00:02<00:00, 63.30it/s, loss=0.308]"
     ]
    },
    {
     "name": "stdout",
     "output_type": "stream",
     "text": [
      "[INFO] [train] Validation accuracy: 89.82% \n",
      "\n"
     ]
    },
    {
     "name": "stderr",
     "output_type": "stream",
     "text": [
      "\n"
     ]
    },
    {
     "name": "stdout",
     "output_type": "stream",
     "text": [
      "[INFO] [train] Epoch 17 / 20\n",
      "[INFO] [train] Learning rate: 0.00109\n"
     ]
    },
    {
     "name": "stderr",
     "output_type": "stream",
     "text": [
      "Training: 100%|██████████| 782/782 [00:34<00:00, 22.81it/s, loss=0.291]"
     ]
    },
    {
     "name": "stdout",
     "output_type": "stream",
     "text": [
      "[INFO] [train] Train accuracy: 89.74% \n",
      "\n"
     ]
    },
    {
     "name": "stderr",
     "output_type": "stream",
     "text": [
      "\n",
      "Validation: 100%|██████████| 157/157 [00:02<00:00, 63.33it/s, loss=0.288]"
     ]
    },
    {
     "name": "stdout",
     "output_type": "stream",
     "text": [
      "[INFO] [train] Validation accuracy: 90.21% \n",
      "\n"
     ]
    },
    {
     "name": "stderr",
     "output_type": "stream",
     "text": [
      "\n"
     ]
    },
    {
     "name": "stdout",
     "output_type": "stream",
     "text": [
      "[INFO] [train] Epoch 18 / 20\n",
      "[INFO] [train] Learning rate: 0.0005\n"
     ]
    },
    {
     "name": "stderr",
     "output_type": "stream",
     "text": [
      "Training: 100%|██████████| 782/782 [00:34<00:00, 22.81it/s, loss=0.26] "
     ]
    },
    {
     "name": "stdout",
     "output_type": "stream",
     "text": [
      "[INFO] [train] Train accuracy: 90.87% \n",
      "\n"
     ]
    },
    {
     "name": "stderr",
     "output_type": "stream",
     "text": [
      "\n",
      "Validation: 100%|██████████| 157/157 [00:02<00:00, 63.23it/s, loss=0.28] "
     ]
    },
    {
     "name": "stdout",
     "output_type": "stream",
     "text": [
      "[INFO] [train] Validation accuracy: 90.66% \n",
      "\n"
     ]
    },
    {
     "name": "stderr",
     "output_type": "stream",
     "text": [
      "\n"
     ]
    },
    {
     "name": "stdout",
     "output_type": "stream",
     "text": [
      "[INFO] [train] Epoch 19 / 20\n",
      "[INFO] [train] Learning rate: 0.00013\n"
     ]
    },
    {
     "name": "stderr",
     "output_type": "stream",
     "text": [
      "Training: 100%|██████████| 782/782 [00:34<00:00, 22.80it/s, loss=0.251]"
     ]
    },
    {
     "name": "stdout",
     "output_type": "stream",
     "text": [
      "[INFO] [train] Train accuracy: 91.28% \n",
      "\n"
     ]
    },
    {
     "name": "stderr",
     "output_type": "stream",
     "text": [
      "\n",
      "Validation: 100%|██████████| 157/157 [00:02<00:00, 63.21it/s, loss=0.278]"
     ]
    },
    {
     "name": "stdout",
     "output_type": "stream",
     "text": [
      "[INFO] [train] Validation accuracy: 90.88% \n",
      "\n"
     ]
    },
    {
     "name": "stderr",
     "output_type": "stream",
     "text": [
      "\n"
     ]
    },
    {
     "name": "stdout",
     "output_type": "stream",
     "text": [
      "[INFO] [train] Epoch 20 / 20\n",
      "[INFO] [train] Learning rate: 0.0\n"
     ]
    },
    {
     "name": "stderr",
     "output_type": "stream",
     "text": [
      "Training: 100%|██████████| 782/782 [00:34<00:00, 22.81it/s, loss=0.248]"
     ]
    },
    {
     "name": "stdout",
     "output_type": "stream",
     "text": [
      "[INFO] [train] Train accuracy: 91.38% \n",
      "\n"
     ]
    },
    {
     "name": "stderr",
     "output_type": "stream",
     "text": [
      "\n",
      "Validation: 100%|██████████| 157/157 [00:02<00:00, 63.25it/s, loss=0.278]"
     ]
    },
    {
     "name": "stdout",
     "output_type": "stream",
     "text": [
      "[INFO] [train] Validation accuracy: 90.79% \n",
      "\n"
     ]
    },
    {
     "name": "stderr",
     "output_type": "stream",
     "text": [
      "\n",
      "TTA Prediction 1: 100%|██████████| 157/157 [00:02<00:00, 59.46it/s]\n",
      "TTA Prediction 2: 100%|██████████| 157/157 [00:02<00:00, 59.45it/s]\n",
      "TTA Prediction 3: 100%|██████████| 157/157 [00:02<00:00, 59.44it/s]\n",
      "TTA Prediction 4: 100%|██████████| 157/157 [00:02<00:00, 59.51it/s]\n",
      "TTA Prediction 5: 100%|██████████| 157/157 [00:02<00:00, 59.41it/s]"
     ]
    },
    {
     "name": "stdout",
     "output_type": "stream",
     "text": [
      "[INFO] [train] TTA Test accuracy: 90.40% \n",
      "\n"
     ]
    },
    {
     "name": "stderr",
     "output_type": "stream",
     "text": [
      "\n"
     ]
    }
   ],
   "source": [
    "DEVICE = torch.device(\"cuda\" if torch.cuda.is_available() else \"cpu\")\n",
    "BASE_DIR = os.path.abspath(os.getcwd())\n",
    "DATA_DIR = os.path.abspath(f'{BASE_DIR}/data')\n",
    "MODEL_DIR = os.path.abspath(f'{BASE_DIR}/model')\n",
    "CIFAR10_DIR = os.path.abspath(f'{DATA_DIR}/CIFAR10')\n",
    "\n",
    "INPUT_SIZE = (32, 32)\n",
    "OUTPUT_SIZE = 10\n",
    "BATCH_SIZE = 64  \n",
    "LR = 0.01              \n",
    "NUM_EPOCHS = 20\n",
    "EARLY_STOPPING = None\n",
    "\n",
    "transform_train = transforms.Compose([\n",
    "        transforms.Resize(INPUT_SIZE),\n",
    "        transforms.RandomHorizontalFlip(),\n",
    "        transforms.RandomRotation(degrees=30),\n",
    "        transforms.RandomAffine(degrees=0, translate=(0.1, 0.1), scale=(0.8, 1.2), shear=10),\n",
    "        transforms.ToTensor(),\n",
    "        transforms.Normalize(mean=(0.5, 0.5, 0.5), std=(0.5, 0.5, 0.5))\n",
    "    ])\n",
    "\n",
    "transform_val = transforms.Compose([\n",
    "        transforms.Resize(INPUT_SIZE),\n",
    "        transforms.ToTensor(),\n",
    "        transforms.Normalize(mean=(0.5, 0.5, 0.5), std=(0.5, 0.5, 0.5))\n",
    "    ])\n",
    "\n",
    "\n",
    "train_dataset, test_dataset = data.get_dataset(datasets.CIFAR10, transform_train, transform_val, CIFAR10_DIR)\n",
    "train_loader, test_loader = data.get_dataloaders(train_dataset, test_dataset, BATCH_SIZE)\n",
    "\n",
    "net = model.create_resnet18().to(DEVICE)\n",
    "\n",
    "criterion = nn.CrossEntropyLoss()\n",
    "optimizer = optim.Adam(net.parameters(), lr=LR)\n",
    "scheduler = optim.lr_scheduler.OneCycleLR(optimizer, max_lr=LR, steps_per_epoch=1, epochs=NUM_EPOCHS)\n",
    "\n",
    "train_loss_hist, train_acc_hist, val_loss_hist, val_acc_hist = train.fit_model(\n",
    "    model=net, \n",
    "    num_epochs=NUM_EPOCHS, \n",
    "    scheduler=scheduler, \n",
    "    train_loader=train_loader, \n",
    "    test_loader=test_loader, \n",
    "    optimizer=optimizer, \n",
    "    criterion=criterion, \n",
    "    early_stopping=EARLY_STOPPING,\n",
    "    device=DEVICE,\n",
    "    model_dir=MODEL_DIR,\n",
    "    model_name='resnet18'\n",
    ")\n",
    "\n",
    "train_dataset_tta, test_dataset_tta = data.get_dataset(datasets.CIFAR10, transform_train, transform_val, CIFAR10_DIR, tta=True)\n",
    "_, test_loader_tta = data.get_dataloaders(train_dataset_tta, test_dataset_tta, BATCH_SIZE)\n",
    "total_preds, accuracy = train.predict_tta(net, test_loader_tta, device=DEVICE, iterations=5)"
   ]
  },
  {
   "cell_type": "code",
   "execution_count": 5,
   "metadata": {},
   "outputs": [
    {
     "data": {
      "image/png": "[encoded data removed]",
      "text/plain": [
       "<Figure size 1000x500 with 1 Axes>"
      ]
     },
     "metadata": {},
     "output_type": "display_data"
    },
    {
     "data": {
      "image/png": "[encoded data removed]",
      "text/plain": [
       "<Figure size 1000x500 with 1 Axes>"
      ]
     },
     "metadata": {},
     "output_type": "display_data"
    }
   ],
   "source": [
    "# Plot metrics\n",
    "epochs = np.arange(1, NUM_EPOCHS + 1)\n",
    "plt.figure(figsize=(10, 5))\n",
    "plt.plot(epochs, train_loss_hist, label='Train Loss')\n",
    "plt.plot(epochs, val_loss_hist, label='Validation Loss')\n",
    "plt.xlabel('Epoch')\n",
    "plt.ylabel('Loss')\n",
    "plt.title('Training and Validation Loss')\n",
    "plt.legend()\n",
    "plt.grid(True)\n",
    "# plt.savefig('loss_plot.png')\n",
    "# plt.close()\n",
    "\n",
    "plt.figure(figsize=(10, 5))\n",
    "plt.plot(epochs, train_acc_hist, label='Train Accuracy')\n",
    "plt.plot(epochs, val_acc_hist, label='Validation Accuracy')\n",
    "plt.xlabel('Epoch')\n",
    "plt.ylabel('Accuracy')\n",
    "plt.title('Training and Validation Accuracy')\n",
    "plt.legend()\n",
    "plt.grid(True)\n",
    "# plt.savefig('accuracy_plot.png')\n",
    "# plt.close()"
   ]
  },
  {
   "cell_type": "code",
   "execution_count": 6,
   "metadata": {},
   "outputs": [],
   "source": [
    "torch.save(total_preds, 'tta_preds_resnet_one_cycle.pt')"
   ]
  },
  {
   "cell_type": "code",
   "execution_count": 21,
   "metadata": {},
   "outputs": [
    {
     "name": "stdout",
     "output_type": "stream",
     "text": [
      "Jaccard index for each class (including background): [0.0, 0.38461538461538464, 0.25]\n",
      "Mean Jaccard index: 0.21153847873210907\n"
     ]
    }
   ],
   "source": [
    "import torch\n",
    "\n",
    "# Define tensors\n",
    "y_pred = torch.tensor([\n",
    "    [1, 1, 2, 2, 2],\n",
    "    [1, 1, 2, 1, 2],\n",
    "    [1, 0, 0, 0, 0],\n",
    "    [2, 2, 2, 0, 0],\n",
    "    [2, 1, 1, 1, 2]\n",
    "], dtype=torch.int32)\n",
    "\n",
    "y_true = torch.tensor([\n",
    "    [1, 1, 1, 2, 2],\n",
    "    [1, 1, 1, 2, 2],\n",
    "    [1, 1, 1, 2, 2],\n",
    "    [0, 0, 0, 2, 2],\n",
    "    [0, 0, 0, 2, 2]\n",
    "], dtype=torch.int32)\n",
    "\n",
    "# Calculate Jaccard index for each class\n",
    "class_jaccard = []\n",
    "num_classes = torch.max(y_true) + 1\n",
    "\n",
    "for class_id in range(num_classes):\n",
    "    intersection = torch.sum((y_pred == class_id) & (y_true == class_id))\n",
    "    union = torch.sum((y_pred == class_id) | (y_true == class_id))\n",
    "    jaccard = intersection.item() / union.item()\n",
    "    class_jaccard.append(jaccard)\n",
    "\n",
    "# Calculate mean Jaccard index\n",
    "mean_jaccard = torch.tensor(class_jaccard).mean().item()\n",
    "\n",
    "print(\"Jaccard index for each class (including background):\", class_jaccard)\n",
    "print(\"Mean Jaccard index:\", mean_jaccard)\n"
   ]
  },
  {
   "cell_type": "code",
   "execution_count": 19,
   "metadata": {},
   "outputs": [
    {
     "data": {
      "text/plain": [
       "tensor([1, 1, 1, 1, 1, 1, 1, 1, 1], dtype=torch.int32)"
      ]
     },
     "execution_count": 19,
     "metadata": {},
     "output_type": "execute_result"
    }
   ],
   "source": [
    "y_pred[y_pred == 1]"
   ]
  }
 ],
 "metadata": {
  "kernelspec": {
   "display_name": "deepdive",
   "language": "python",
   "name": "python3"
  },
  "language_info": {
   "codemirror_mode": {
    "name": "ipython",
    "version": 3
   },
   "file_extension": ".py",
   "mimetype": "text/x-python",
   "name": "python",
   "nbconvert_exporter": "python",
   "pygments_lexer": "ipython3",
   "version": "3.11.4"
  }
 },
 "nbformat": 4,
 "nbformat_minor": 2
}
