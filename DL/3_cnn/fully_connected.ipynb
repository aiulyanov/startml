{
 "cells": [
  {
   "cell_type": "code",
   "execution_count": 1,
   "metadata": {},
   "outputs": [
    {
     "name": "stdout",
     "output_type": "stream",
     "text": [
      "/home/arthur/code/startml/3_DL/3_cnn\n"
     ]
    }
   ],
   "source": [
    "%load_ext autoreload\n",
    "%autoreload 2\n",
    "\n",
    "%cd /home/arthur/code/startml/3_DL/3_cnn/\n",
    "\n",
    "import os\n",
    "import torch\n",
    "import torch.nn as nn\n",
    "import torch.optim as optim\n",
    "\n",
    "import data\n",
    "import train\n",
    "from model import FCNN, CNN"
   ]
  },
  {
   "cell_type": "code",
   "execution_count": 2,
   "metadata": {},
   "outputs": [],
   "source": [
    "DEVICE = torch.device(\"cuda\" if torch.cuda.is_available() else \"cpu\")\n",
    "BASE_DIR = os.path.abspath(os.getcwd())\n",
    "DATA_DIR = os.path.abspath(f'{BASE_DIR}/data')\n",
    "MODEL_DIR = os.path.abspath(f'{BASE_DIR}/model')\n",
    "\n",
    "# model\n",
    "INPUT_SIZE = 28 * 28    \n",
    "OUTPUT_SIZE = 10\n",
    "\n",
    "# data loaders\n",
    "BATCH_SIZE = 64  \n",
    "\n",
    "# optimizer\n",
    "LR = 0.001              \n",
    "\n",
    "# scheduler\n",
    "STEP_SIZE = 3           \n",
    "GAMMA = 0.1\n",
    "\n",
    "NUM_EPOCHS = 20\n",
    "EARLY_STOPPING = 0.993"
   ]
  },
  {
   "cell_type": "code",
   "execution_count": 3,
   "metadata": {},
   "outputs": [],
   "source": [
    "train_dataset, test_dataset = data.get_mnist(root=DATA_DIR)"
   ]
  },
  {
   "cell_type": "code",
   "execution_count": 4,
   "metadata": {},
   "outputs": [],
   "source": [
    "train_loader, test_loader = data.get_dataloaders(train_dataset, test_dataset, BATCH_SIZE)"
   ]
  },
  {
   "cell_type": "code",
   "execution_count": 5,
   "metadata": {},
   "outputs": [],
   "source": [
    "model = CNN(OUTPUT_SIZE).to(DEVICE)\n",
    "criterion = nn.CrossEntropyLoss()\n",
    "optimizer = optim.Adam(model.parameters(), lr=LR)\n",
    "\n",
    "scheduler = optim.lr_scheduler.StepLR(optimizer, step_size=STEP_SIZE, gamma=GAMMA)"
   ]
  },
  {
   "cell_type": "code",
   "execution_count": 6,
   "metadata": {},
   "outputs": [
    {
     "name": "stdout",
     "output_type": "stream",
     "text": [
      "[INFO] [train] Epoch 1 / 20\n"
     ]
    },
    {
     "name": "stderr",
     "output_type": "stream",
     "text": [
      "Training: 100%|██████████| 938/938 [00:07<00:00, 122.84it/s, loss=0.177]\n",
      "Validation: 100%|██████████| 157/157 [00:00<00:00, 226.87it/s, loss=0.0622]"
     ]
    },
    {
     "name": "stdout",
     "output_type": "stream",
     "text": [
      "[INFO] [train] Test accuracy: 98.04% \n",
      "\n",
      "[INFO] [train] Epoch 2 / 20\n"
     ]
    },
    {
     "name": "stderr",
     "output_type": "stream",
     "text": [
      "\n",
      "Training: 100%|██████████| 938/938 [00:05<00:00, 178.77it/s, loss=0.05]  \n",
      "Validation: 100%|██████████| 157/157 [00:00<00:00, 234.75it/s, loss=0.0382]"
     ]
    },
    {
     "name": "stdout",
     "output_type": "stream",
     "text": [
      "[INFO] [train] Test accuracy: 98.64% \n",
      "\n",
      "[INFO] [train] Epoch 3 / 20\n"
     ]
    },
    {
     "name": "stderr",
     "output_type": "stream",
     "text": [
      "\n",
      "Training: 100%|██████████| 938/938 [00:05<00:00, 178.40it/s, loss=0.0355]\n",
      "Validation: 100%|██████████| 157/157 [00:00<00:00, 234.78it/s, loss=0.0279]"
     ]
    },
    {
     "name": "stdout",
     "output_type": "stream",
     "text": [
      "[INFO] [train] Test accuracy: 99.08% \n",
      "\n",
      "[INFO] [train] Epoch 4 / 20\n"
     ]
    },
    {
     "name": "stderr",
     "output_type": "stream",
     "text": [
      "\n",
      "Training: 100%|██████████| 938/938 [00:05<00:00, 178.49it/s, loss=0.0256]\n",
      "Validation: 100%|██████████| 157/157 [00:00<00:00, 233.91it/s, loss=0.0336]"
     ]
    },
    {
     "name": "stdout",
     "output_type": "stream",
     "text": [
      "[INFO] [train] Test accuracy: 98.83% \n",
      "\n",
      "[INFO] [train] Epoch 5 / 20\n"
     ]
    },
    {
     "name": "stderr",
     "output_type": "stream",
     "text": [
      "\n",
      "Training: 100%|██████████| 938/938 [00:05<00:00, 178.74it/s, loss=0.02]  \n",
      "Validation: 100%|██████████| 157/157 [00:00<00:00, 234.31it/s, loss=0.0257]"
     ]
    },
    {
     "name": "stdout",
     "output_type": "stream",
     "text": [
      "[INFO] [train] Test accuracy: 99.15% \n",
      "\n",
      "[INFO] [train] Epoch 6 / 20\n"
     ]
    },
    {
     "name": "stderr",
     "output_type": "stream",
     "text": [
      "\n",
      "Training: 100%|██████████| 938/938 [00:05<00:00, 178.64it/s, loss=0.0151]\n",
      "Validation: 100%|██████████| 157/157 [00:00<00:00, 234.55it/s, loss=0.0307]"
     ]
    },
    {
     "name": "stdout",
     "output_type": "stream",
     "text": [
      "[INFO] [train] Test accuracy: 98.86% \n",
      "\n",
      "[INFO] [train] Epoch 7 / 20\n"
     ]
    },
    {
     "name": "stderr",
     "output_type": "stream",
     "text": [
      "\n",
      "Training: 100%|██████████| 938/938 [00:05<00:00, 178.76it/s, loss=0.0133]\n",
      "Validation: 100%|██████████| 157/157 [00:00<00:00, 235.35it/s, loss=0.0296]"
     ]
    },
    {
     "name": "stdout",
     "output_type": "stream",
     "text": [
      "[INFO] [train] Test accuracy: 99.01% \n",
      "\n",
      "[INFO] [train] Epoch 8 / 20\n"
     ]
    },
    {
     "name": "stderr",
     "output_type": "stream",
     "text": [
      "\n",
      "Training: 100%|██████████| 938/938 [00:05<00:00, 179.42it/s, loss=0.00958]\n",
      "Validation: 100%|██████████| 157/157 [00:00<00:00, 233.75it/s, loss=0.028] "
     ]
    },
    {
     "name": "stdout",
     "output_type": "stream",
     "text": [
      "[INFO] [train] Test accuracy: 99.19% \n",
      "\n",
      "[INFO] [train] Epoch 9 / 20\n"
     ]
    },
    {
     "name": "stderr",
     "output_type": "stream",
     "text": [
      "\n",
      "Training: 100%|██████████| 938/938 [00:05<00:00, 179.68it/s, loss=0.00848]\n",
      "Validation: 100%|██████████| 157/157 [00:00<00:00, 235.85it/s, loss=0.0403]"
     ]
    },
    {
     "name": "stdout",
     "output_type": "stream",
     "text": [
      "[INFO] [train] Test accuracy: 98.91% \n",
      "\n",
      "[INFO] [train] Epoch 10 / 20\n"
     ]
    },
    {
     "name": "stderr",
     "output_type": "stream",
     "text": [
      "\n",
      "Training: 100%|██████████| 938/938 [00:05<00:00, 179.11it/s, loss=0.00808]\n",
      "Validation: 100%|██████████| 157/157 [00:00<00:00, 235.10it/s, loss=0.0401]"
     ]
    },
    {
     "name": "stdout",
     "output_type": "stream",
     "text": [
      "[INFO] [train] Test accuracy: 98.91% \n",
      "\n",
      "[INFO] [train] Epoch 11 / 20\n"
     ]
    },
    {
     "name": "stderr",
     "output_type": "stream",
     "text": [
      "\n",
      "Training: 100%|██████████| 938/938 [00:05<00:00, 179.29it/s, loss=0.00596]\n",
      "Validation: 100%|██████████| 157/157 [00:00<00:00, 234.62it/s, loss=0.0304]"
     ]
    },
    {
     "name": "stdout",
     "output_type": "stream",
     "text": [
      "[INFO] [train] Test accuracy: 99.13% \n",
      "\n",
      "[INFO] [train] Epoch 12 / 20\n"
     ]
    },
    {
     "name": "stderr",
     "output_type": "stream",
     "text": [
      "\n",
      "Training: 100%|██████████| 938/938 [00:05<00:00, 179.33it/s, loss=0.00594]\n",
      "Validation: 100%|██████████| 157/157 [00:00<00:00, 235.31it/s, loss=0.0393]"
     ]
    },
    {
     "name": "stdout",
     "output_type": "stream",
     "text": [
      "[INFO] [train] Test accuracy: 98.98% \n",
      "\n",
      "[INFO] [train] Epoch 13 / 20\n"
     ]
    },
    {
     "name": "stderr",
     "output_type": "stream",
     "text": [
      "\n",
      "Training: 100%|██████████| 938/938 [00:05<00:00, 179.79it/s, loss=0.00512]\n",
      "Validation: 100%|██████████| 157/157 [00:00<00:00, 234.75it/s, loss=0.0392]"
     ]
    },
    {
     "name": "stdout",
     "output_type": "stream",
     "text": [
      "[INFO] [train] Test accuracy: 99.09% \n",
      "\n",
      "[INFO] [train] Epoch 14 / 20\n"
     ]
    },
    {
     "name": "stderr",
     "output_type": "stream",
     "text": [
      "\n",
      "Training: 100%|██████████| 938/938 [00:05<00:00, 179.53it/s, loss=0.00293]\n",
      "Validation: 100%|██████████| 157/157 [00:00<00:00, 235.45it/s, loss=0.0504]"
     ]
    },
    {
     "name": "stdout",
     "output_type": "stream",
     "text": [
      "[INFO] [train] Test accuracy: 98.84% \n",
      "\n",
      "[INFO] [train] Epoch 15 / 20\n"
     ]
    },
    {
     "name": "stderr",
     "output_type": "stream",
     "text": [
      "\n",
      "Training: 100%|██████████| 938/938 [00:05<00:00, 179.67it/s, loss=0.00541]\n",
      "Validation: 100%|██████████| 157/157 [00:00<00:00, 234.88it/s, loss=0.0412]"
     ]
    },
    {
     "name": "stdout",
     "output_type": "stream",
     "text": [
      "[INFO] [train] Test accuracy: 98.91% \n",
      "\n",
      "[INFO] [train] Epoch 16 / 20\n"
     ]
    },
    {
     "name": "stderr",
     "output_type": "stream",
     "text": [
      "\n",
      "Training: 100%|██████████| 938/938 [00:05<00:00, 179.82it/s, loss=0.00491]\n",
      "Validation: 100%|██████████| 157/157 [00:00<00:00, 235.27it/s, loss=0.0369]"
     ]
    },
    {
     "name": "stdout",
     "output_type": "stream",
     "text": [
      "[INFO] [train] Test accuracy: 98.95% \n",
      "\n",
      "[INFO] [train] Epoch 17 / 20\n"
     ]
    },
    {
     "name": "stderr",
     "output_type": "stream",
     "text": [
      "\n",
      "Training: 100%|██████████| 938/938 [00:05<00:00, 179.78it/s, loss=0.00246]\n",
      "Validation: 100%|██████████| 157/157 [00:00<00:00, 234.42it/s, loss=0.0314]"
     ]
    },
    {
     "name": "stdout",
     "output_type": "stream",
     "text": [
      "[INFO] [train] Test accuracy: 99.20% \n",
      "\n",
      "[INFO] [train] Epoch 18 / 20\n"
     ]
    },
    {
     "name": "stderr",
     "output_type": "stream",
     "text": [
      "\n",
      "Training: 100%|██████████| 938/938 [00:05<00:00, 179.66it/s, loss=0.00369] \n",
      "Validation: 100%|██████████| 157/157 [00:00<00:00, 235.02it/s, loss=0.0435]"
     ]
    },
    {
     "name": "stdout",
     "output_type": "stream",
     "text": [
      "[INFO] [train] Test accuracy: 98.91% \n",
      "\n",
      "[INFO] [train] Epoch 19 / 20\n"
     ]
    },
    {
     "name": "stderr",
     "output_type": "stream",
     "text": [
      "\n",
      "Training: 100%|██████████| 938/938 [00:05<00:00, 179.55it/s, loss=0.00295]\n",
      "Validation: 100%|██████████| 157/157 [00:00<00:00, 234.49it/s, loss=0.0427]"
     ]
    },
    {
     "name": "stdout",
     "output_type": "stream",
     "text": [
      "[INFO] [train] Test accuracy: 99.02% \n",
      "\n",
      "[INFO] [train] Epoch 20 / 20\n"
     ]
    },
    {
     "name": "stderr",
     "output_type": "stream",
     "text": [
      "\n",
      "Training: 100%|██████████| 938/938 [00:05<00:00, 179.28it/s, loss=0.0037] \n",
      "Validation: 100%|██████████| 157/157 [00:00<00:00, 234.45it/s, loss=0.037] "
     ]
    },
    {
     "name": "stdout",
     "output_type": "stream",
     "text": [
      "[INFO] [train] Test accuracy: 99.07% \n",
      "\n"
     ]
    },
    {
     "name": "stderr",
     "output_type": "stream",
     "text": [
      "\n"
     ]
    }
   ],
   "source": [
    "train_loss_hist, val_loss_hist, val_acc_hist = train.fit_model(\n",
    "    model=model, \n",
    "    num_epochs=NUM_EPOCHS, \n",
    "    scheduler=scheduler, \n",
    "    train_loader=train_loader, \n",
    "    test_loader=test_loader, \n",
    "    optimizer=optimizer, \n",
    "    criterion=criterion, \n",
    "    early_stopping=EARLY_STOPPING,\n",
    "    device=DEVICE,\n",
    "    model_dir=MODEL_DIR\n",
    ")"
   ]
  }
 ],
 "metadata": {
  "kernelspec": {
   "display_name": "deepdive",
   "language": "python",
   "name": "python3"
  },
  "language_info": {
   "codemirror_mode": {
    "name": "ipython",
    "version": 3
   },
   "file_extension": ".py",
   "mimetype": "text/x-python",
   "name": "python",
   "nbconvert_exporter": "python",
   "pygments_lexer": "ipython3",
   "version": "3.11.4"
  }
 },
 "nbformat": 4,
 "nbformat_minor": 2
}
