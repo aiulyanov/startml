{
 "cells": [
  {
   "cell_type": "code",
   "execution_count": 1,
   "metadata": {},
   "outputs": [
    {
     "name": "stdout",
     "output_type": "stream",
     "text": [
      "/home/arthur/code/startml/3_DL/3_cnn\n"
     ]
    }
   ],
   "source": [
    "%load_ext autoreload\n",
    "%autoreload 2\n",
    "\n",
    "%cd /home/arthur/code/startml/3_DL/3_cnn/\n",
    "\n",
    "import os\n",
    "import torch\n",
    "import torch.nn as nn\n",
    "import torch.optim as optim\n",
    "\n",
    "import data\n",
    "import train\n",
    "from fcnn import SimpleNN\n",
    "from cnn import CNN"
   ]
  },
  {
   "cell_type": "code",
   "execution_count": 2,
   "metadata": {},
   "outputs": [],
   "source": [
    "DEVICE = torch.device(\"cuda\" if torch.cuda.is_available() else \"cpu\")\n",
    "BASE_DIR = os.path.abspath(os.getcwd())\n",
    "DATA_DIR = os.path.abspath(f'{BASE_DIR}/data')\n",
    "MODEL_DIR = os.path.abspath(f'{BASE_DIR}/model')\n",
    "\n",
    "# model\n",
    "INPUT_SIZE = 28 * 28    \n",
    "OUTPUT_SIZE = 10\n",
    "\n",
    "# data loaders\n",
    "BATCH_SIZE = 64  \n",
    "\n",
    "# optimizer\n",
    "LR = 0.001              \n",
    "\n",
    "# scheduler\n",
    "STEP_SIZE = 3           \n",
    "GAMMA = 0.1\n",
    "\n",
    "NUM_EPOCHS = 20\n",
    "EARLY_STOPPING = 0.993"
   ]
  },
  {
   "cell_type": "code",
   "execution_count": 3,
   "metadata": {},
   "outputs": [],
   "source": [
    "train_dataset, test_dataset = data.get_mnist(root=DATA_DIR)"
   ]
  },
  {
   "cell_type": "code",
   "execution_count": 4,
   "metadata": {},
   "outputs": [],
   "source": [
    "train_loader, test_loader = data.get_dataloaders(train_dataset, test_dataset, BATCH_SIZE)"
   ]
  },
  {
   "cell_type": "code",
   "execution_count": 5,
   "metadata": {},
   "outputs": [],
   "source": [
    "model = CNN(OUTPUT_SIZE).to(DEVICE)\n",
    "criterion = nn.CrossEntropyLoss()\n",
    "optimizer = optim.Adam(model.parameters(), lr=LR)\n",
    "\n",
    "scheduler = optim.lr_scheduler.StepLR(optimizer, step_size=STEP_SIZE, gamma=GAMMA)"
   ]
  },
  {
   "cell_type": "code",
   "execution_count": 6,
   "metadata": {},
   "outputs": [
    {
     "name": "stdout",
     "output_type": "stream",
     "text": [
      "[INFO] [train] Epoch 1 / 20\n"
     ]
    },
    {
     "name": "stderr",
     "output_type": "stream",
     "text": [
      "Training: 100%|██████████| 938/938 [00:06<00:00, 150.74it/s, loss=0.169]\n",
      "Validation: 100%|██████████| 157/157 [00:00<00:00, 235.86it/s, loss=0.0439]"
     ]
    },
    {
     "name": "stdout",
     "output_type": "stream",
     "text": [
      "[INFO] [train] Test accuracy: 98.57% \n",
      "\n",
      "[INFO] [train] Epoch 2 / 20\n"
     ]
    },
    {
     "name": "stderr",
     "output_type": "stream",
     "text": [
      "\n",
      "Training: 100%|██████████| 938/938 [00:05<00:00, 179.90it/s, loss=0.0465]\n",
      "Validation: 100%|██████████| 157/157 [00:00<00:00, 237.44it/s, loss=0.0389]"
     ]
    },
    {
     "name": "stdout",
     "output_type": "stream",
     "text": [
      "[INFO] [train] Test accuracy: 98.73% \n",
      "\n",
      "[INFO] [train] Epoch 3 / 20\n"
     ]
    },
    {
     "name": "stderr",
     "output_type": "stream",
     "text": [
      "\n",
      "Training: 100%|██████████| 938/938 [00:05<00:00, 179.41it/s, loss=0.0335]\n",
      "Validation: 100%|██████████| 157/157 [00:00<00:00, 236.73it/s, loss=0.0362]"
     ]
    },
    {
     "name": "stdout",
     "output_type": "stream",
     "text": [
      "[INFO] [train] Test accuracy: 98.67% \n",
      "\n",
      "[INFO] [train] Epoch 4 / 20\n"
     ]
    },
    {
     "name": "stderr",
     "output_type": "stream",
     "text": [
      "\n",
      "Training: 100%|██████████| 938/938 [00:05<00:00, 179.64it/s, loss=0.0252]\n",
      "Validation: 100%|██████████| 157/157 [00:00<00:00, 236.68it/s, loss=0.0278]"
     ]
    },
    {
     "name": "stdout",
     "output_type": "stream",
     "text": [
      "[INFO] [train] Test accuracy: 99.02% \n",
      "\n",
      "[INFO] [train] Epoch 5 / 20\n"
     ]
    },
    {
     "name": "stderr",
     "output_type": "stream",
     "text": [
      "\n",
      "Training: 100%|██████████| 938/938 [00:05<00:00, 179.29it/s, loss=0.0187]\n",
      "Validation: 100%|██████████| 157/157 [00:00<00:00, 236.83it/s, loss=0.0365]"
     ]
    },
    {
     "name": "stdout",
     "output_type": "stream",
     "text": [
      "[INFO] [train] Test accuracy: 98.83% \n",
      "\n",
      "[INFO] [train] Epoch 6 / 20\n"
     ]
    },
    {
     "name": "stderr",
     "output_type": "stream",
     "text": [
      "\n",
      "Training: 100%|██████████| 938/938 [00:05<00:00, 179.15it/s, loss=0.0146]\n",
      "Validation: 100%|██████████| 157/157 [00:00<00:00, 235.57it/s, loss=0.0332]"
     ]
    },
    {
     "name": "stdout",
     "output_type": "stream",
     "text": [
      "[INFO] [train] Test accuracy: 98.92% \n",
      "\n",
      "[INFO] [train] Epoch 7 / 20\n"
     ]
    },
    {
     "name": "stderr",
     "output_type": "stream",
     "text": [
      "\n",
      "Training: 100%|██████████| 938/938 [00:05<00:00, 179.79it/s, loss=0.0125]\n",
      "Validation: 100%|██████████| 157/157 [00:00<00:00, 236.13it/s, loss=0.0294]"
     ]
    },
    {
     "name": "stdout",
     "output_type": "stream",
     "text": [
      "[INFO] [train] Test accuracy: 99.00% \n",
      "\n",
      "[INFO] [train] Epoch 8 / 20\n"
     ]
    },
    {
     "name": "stderr",
     "output_type": "stream",
     "text": [
      "\n",
      "Training: 100%|██████████| 938/938 [00:05<00:00, 179.58it/s, loss=0.0109] \n",
      "Validation: 100%|██████████| 157/157 [00:00<00:00, 236.08it/s, loss=0.0262]"
     ]
    },
    {
     "name": "stdout",
     "output_type": "stream",
     "text": [
      "[INFO] [train] Test accuracy: 99.11% \n",
      "\n",
      "[INFO] [train] Epoch 9 / 20\n"
     ]
    },
    {
     "name": "stderr",
     "output_type": "stream",
     "text": [
      "\n",
      "Training: 100%|██████████| 938/938 [00:05<00:00, 179.58it/s, loss=0.0068] \n",
      "Validation: 100%|██████████| 157/157 [00:00<00:00, 237.01it/s, loss=0.0384]"
     ]
    },
    {
     "name": "stdout",
     "output_type": "stream",
     "text": [
      "[INFO] [train] Test accuracy: 98.96% \n",
      "\n",
      "[INFO] [train] Epoch 10 / 20\n"
     ]
    },
    {
     "name": "stderr",
     "output_type": "stream",
     "text": [
      "\n",
      "Training: 100%|██████████| 938/938 [00:05<00:00, 179.76it/s, loss=0.00797]\n",
      "Validation: 100%|██████████| 157/157 [00:00<00:00, 236.54it/s, loss=0.0299]"
     ]
    },
    {
     "name": "stdout",
     "output_type": "stream",
     "text": [
      "[INFO] [train] Test accuracy: 99.03% \n",
      "\n",
      "[INFO] [train] Epoch 11 / 20\n"
     ]
    },
    {
     "name": "stderr",
     "output_type": "stream",
     "text": [
      "\n",
      "Training: 100%|██████████| 938/938 [00:05<00:00, 179.78it/s, loss=0.00688]\n",
      "Validation: 100%|██████████| 157/157 [00:00<00:00, 236.93it/s, loss=0.0304]"
     ]
    },
    {
     "name": "stdout",
     "output_type": "stream",
     "text": [
      "[INFO] [train] Test accuracy: 99.15% \n",
      "\n",
      "[INFO] [train] Epoch 12 / 20\n"
     ]
    },
    {
     "name": "stderr",
     "output_type": "stream",
     "text": [
      "\n",
      "Training: 100%|██████████| 938/938 [00:05<00:00, 179.61it/s, loss=0.00452]\n",
      "Validation: 100%|██████████| 157/157 [00:00<00:00, 236.94it/s, loss=0.031] "
     ]
    },
    {
     "name": "stdout",
     "output_type": "stream",
     "text": [
      "[INFO] [train] Test accuracy: 99.14% \n",
      "\n",
      "[INFO] [train] Epoch 13 / 20\n"
     ]
    },
    {
     "name": "stderr",
     "output_type": "stream",
     "text": [
      "\n",
      "Training: 100%|██████████| 938/938 [00:05<00:00, 179.43it/s, loss=0.0043] \n",
      "Validation: 100%|██████████| 157/157 [00:00<00:00, 236.46it/s, loss=0.0322]"
     ]
    },
    {
     "name": "stdout",
     "output_type": "stream",
     "text": [
      "[INFO] [train] Test accuracy: 99.20% \n",
      "\n",
      "[INFO] [train] Epoch 14 / 20\n"
     ]
    },
    {
     "name": "stderr",
     "output_type": "stream",
     "text": [
      "\n",
      "Training: 100%|██████████| 938/938 [00:05<00:00, 179.92it/s, loss=0.00548]\n",
      "Validation: 100%|██████████| 157/157 [00:00<00:00, 236.76it/s, loss=0.0441]"
     ]
    },
    {
     "name": "stdout",
     "output_type": "stream",
     "text": [
      "[INFO] [train] Test accuracy: 99.02% \n",
      "\n",
      "[INFO] [train] Epoch 15 / 20\n"
     ]
    },
    {
     "name": "stderr",
     "output_type": "stream",
     "text": [
      "\n",
      "Training: 100%|██████████| 938/938 [00:05<00:00, 180.00it/s, loss=0.00323]\n",
      "Validation: 100%|██████████| 157/157 [00:00<00:00, 236.78it/s, loss=0.0305]"
     ]
    },
    {
     "name": "stdout",
     "output_type": "stream",
     "text": [
      "[INFO] [train] Test accuracy: 99.19% \n",
      "\n",
      "[INFO] [train] Epoch 16 / 20\n"
     ]
    },
    {
     "name": "stderr",
     "output_type": "stream",
     "text": [
      "\n",
      "Training: 100%|██████████| 938/938 [00:05<00:00, 179.82it/s, loss=0.00258]\n",
      "Validation: 100%|██████████| 157/157 [00:00<00:00, 236.68it/s, loss=0.0674]"
     ]
    },
    {
     "name": "stdout",
     "output_type": "stream",
     "text": [
      "[INFO] [train] Test accuracy: 98.62% \n",
      "\n",
      "[INFO] [train] Epoch 17 / 20\n"
     ]
    },
    {
     "name": "stderr",
     "output_type": "stream",
     "text": [
      "\n",
      "Training: 100%|██████████| 938/938 [00:05<00:00, 179.93it/s, loss=0.00571]\n",
      "Validation: 100%|██████████| 157/157 [00:00<00:00, 236.47it/s, loss=0.033] "
     ]
    },
    {
     "name": "stdout",
     "output_type": "stream",
     "text": [
      "[INFO] [train] Test accuracy: 99.28% \n",
      "\n",
      "[INFO] [train] Epoch 18 / 20\n"
     ]
    },
    {
     "name": "stderr",
     "output_type": "stream",
     "text": [
      "\n",
      "Training: 100%|██████████| 938/938 [00:05<00:00, 179.52it/s, loss=0.00178]\n",
      "Validation: 100%|██████████| 157/157 [00:00<00:00, 237.50it/s, loss=0.0401]"
     ]
    },
    {
     "name": "stdout",
     "output_type": "stream",
     "text": [
      "[INFO] [train] Test accuracy: 99.19% \n",
      "\n",
      "[INFO] [train] Epoch 19 / 20\n"
     ]
    },
    {
     "name": "stderr",
     "output_type": "stream",
     "text": [
      "\n",
      "Training: 100%|██████████| 938/938 [00:05<00:00, 179.77it/s, loss=0.00435]\n",
      "Validation: 100%|██████████| 157/157 [00:00<00:00, 237.17it/s, loss=0.0352]"
     ]
    },
    {
     "name": "stdout",
     "output_type": "stream",
     "text": [
      "[INFO] [train] Test accuracy: 99.15% \n",
      "\n",
      "[INFO] [train] Epoch 20 / 20\n"
     ]
    },
    {
     "name": "stderr",
     "output_type": "stream",
     "text": [
      "\n",
      "Training: 100%|██████████| 938/938 [00:05<00:00, 179.50it/s, loss=0.00175]\n",
      "Validation: 100%|██████████| 157/157 [00:00<00:00, 236.99it/s, loss=0.0345]"
     ]
    },
    {
     "name": "stdout",
     "output_type": "stream",
     "text": [
      "[INFO] [train] Test accuracy: 99.30% \n",
      "\n",
      "[INFO] [train] Early stopping threshold reached, training completed\n"
     ]
    },
    {
     "name": "stderr",
     "output_type": "stream",
     "text": [
      "\n"
     ]
    }
   ],
   "source": [
    "train_loss_hist, val_loss_hist, val_acc_hist = train.fit_model(\n",
    "    model=model, \n",
    "    num_epochs=NUM_EPOCHS, \n",
    "    scheduler=scheduler, \n",
    "    train_loader=train_loader, \n",
    "    test_loader=test_loader, \n",
    "    optimizer=optimizer, \n",
    "    criterion=criterion, \n",
    "    early_stopping=EARLY_STOPPING,\n",
    "    device=DEVICE,\n",
    "    model_dir=MODEL_DIR\n",
    ")"
   ]
  },
  {
   "cell_type": "code",
   "execution_count": null,
   "metadata": {},
   "outputs": [],
   "source": []
  }
 ],
 "metadata": {
  "kernelspec": {
   "display_name": "deepdive",
   "language": "python",
   "name": "python3"
  },
  "language_info": {
   "codemirror_mode": {
    "name": "ipython",
    "version": 3
   },
   "file_extension": ".py",
   "mimetype": "text/x-python",
   "name": "python",
   "nbconvert_exporter": "python",
   "pygments_lexer": "ipython3",
   "version": "3.11.4"
  }
 },
 "nbformat": 4,
 "nbformat_minor": 2
}
